{
 "cells": [
  {
   "cell_type": "markdown",
   "metadata": {},
   "source": [
    "### Polling averages of 2016 parliamentary elections\n",
    "\n",
    "I collected the results of eleven opinion polls conducted in Georgia between June and October 2008. Where possible, I've also added basic metadata, however, due to the lack of transparency, not all information is included in the public statements circulated in the media.\n",
    "\n",
    "Calculations below are simple weighted averages of vote shares weighted by the number of days between the end of the fieldwork and election day. In case of election day 1 is assigned as weight. Overall, closer the poll was conducted to the election day, more it influences the model.\n",
    "\n",
    "Weighted rolling average should yield more accurate results and I'm currently planning to implement it"
   ]
  },
  {
   "cell_type": "code",
   "execution_count": 14,
   "metadata": {
    "collapsed": false
   },
   "outputs": [],
   "source": [
    "library(ggplot2)\n",
    "library(dtplyr)"
   ]
  },
  {
   "cell_type": "code",
   "execution_count": 15,
   "metadata": {
    "collapsed": true
   },
   "outputs": [],
   "source": [
    "poll_csv<-read.csv(\"raw/polls_2016.csv\")"
   ]
  },
  {
   "cell_type": "code",
   "execution_count": 16,
   "metadata": {
    "collapsed": false
   },
   "outputs": [
    {
     "data": {
      "text/html": [
       "<ol class=list-inline>\n",
       "\t<li>'Fieldwork_Dates'</li>\n",
       "\t<li>'Days_to_elections'</li>\n",
       "\t<li>'Customer'</li>\n",
       "\t<li>'Research_design'</li>\n",
       "\t<li>'Fieldwork_organization'</li>\n",
       "\t<li>'Survey_type'</li>\n",
       "\t<li>'Data_source'</li>\n",
       "\t<li>'Sample_size'</li>\n",
       "\t<li>'Georgian_dream'</li>\n",
       "\t<li>'UNM'</li>\n",
       "\t<li>'Labor'</li>\n",
       "\t<li>'Free_democrats'</li>\n",
       "\t<li>'State_for_the_people'</li>\n",
       "\t<li>'Alliance_of_patriots'</li>\n",
       "\t<li>'United_democratic_movement'</li>\n",
       "\t<li>'Other'</li>\n",
       "\t<li>'Undecided'</li>\n",
       "</ol>\n"
      ],
      "text/latex": [
       "\\begin{enumerate*}\n",
       "\\item 'Fieldwork\\_Dates'\n",
       "\\item 'Days\\_to\\_elections'\n",
       "\\item 'Customer'\n",
       "\\item 'Research\\_design'\n",
       "\\item 'Fieldwork\\_organization'\n",
       "\\item 'Survey\\_type'\n",
       "\\item 'Data\\_source'\n",
       "\\item 'Sample\\_size'\n",
       "\\item 'Georgian\\_dream'\n",
       "\\item 'UNM'\n",
       "\\item 'Labor'\n",
       "\\item 'Free\\_democrats'\n",
       "\\item 'State\\_for\\_the\\_people'\n",
       "\\item 'Alliance\\_of\\_patriots'\n",
       "\\item 'United\\_democratic\\_movement'\n",
       "\\item 'Other'\n",
       "\\item 'Undecided'\n",
       "\\end{enumerate*}\n"
      ],
      "text/markdown": [
       "1. 'Fieldwork_Dates'\n",
       "2. 'Days_to_elections'\n",
       "3. 'Customer'\n",
       "4. 'Research_design'\n",
       "5. 'Fieldwork_organization'\n",
       "6. 'Survey_type'\n",
       "7. 'Data_source'\n",
       "8. 'Sample_size'\n",
       "9. 'Georgian_dream'\n",
       "10. 'UNM'\n",
       "11. 'Labor'\n",
       "12. 'Free_democrats'\n",
       "13. 'State_for_the_people'\n",
       "14. 'Alliance_of_patriots'\n",
       "15. 'United_democratic_movement'\n",
       "16. 'Other'\n",
       "17. 'Undecided'\n",
       "\n",
       "\n"
      ],
      "text/plain": [
       " [1] \"Fieldwork_Dates\"            \"Days_to_elections\"         \n",
       " [3] \"Customer\"                   \"Research_design\"           \n",
       " [5] \"Fieldwork_organization\"     \"Survey_type\"               \n",
       " [7] \"Data_source\"                \"Sample_size\"               \n",
       " [9] \"Georgian_dream\"             \"UNM\"                       \n",
       "[11] \"Labor\"                      \"Free_democrats\"            \n",
       "[13] \"State_for_the_people\"       \"Alliance_of_patriots\"      \n",
       "[15] \"United_democratic_movement\" \"Other\"                     \n",
       "[17] \"Undecided\"                 "
      ]
     },
     "metadata": {},
     "output_type": "display_data"
    }
   ],
   "source": [
    "tabnames<-names(poll_csv[9:17])\n",
    "\n",
    "rotTabs<-function(tabnames){\n",
    "    poll_csv$tabnames<-(poll_csv$tabnames)/(1-poll_csv$Undecided)\n",
    "}\n",
    "names(poll_csv)"
   ]
  },
  {
   "cell_type": "code",
   "execution_count": 21,
   "metadata": {
    "collapsed": false
   },
   "outputs": [
    {
     "ename": "ERROR",
     "evalue": "Error in `$<-.data.frame`(`*tmp*`, \"tabnames\", value = numeric(0)): replacement has 0 rows, data has 11\n",
     "output_type": "error",
     "traceback": [
      "Error in `$<-.data.frame`(`*tmp*`, \"tabnames\", value = numeric(0)): replacement has 0 rows, data has 11\nTraceback:\n",
      "1. lapply(tabnames, rotTabs)",
      "2. FUN(X[[i]], ...)",
      "3. `$<-`(`*tmp*`, \"tabnames\", value = numeric(0))   # at line 4 of file <text>",
      "4. `$<-.data.frame`(`*tmp*`, \"tabnames\", value = numeric(0))   # at line 4 of file <text>",
      "5. stop(sprintf(ngettext(N, \"replacement has %d row, data has %d\", \n .     \"replacement has %d rows, data has %d\"), N, nrows), domain = NA)"
     ]
    }
   ],
   "source": [
    "lapply(tabnames, rotTabs)"
   ]
  },
  {
   "cell_type": "code",
   "execution_count": 10,
   "metadata": {
    "collapsed": false
   },
   "outputs": [
    {
     "data": {
      "text/html": [
       "<ol>\n",
       "\t<li>'numeric'</li>\n",
       "\t<li>'numeric'</li>\n",
       "\t<li>'numeric'</li>\n",
       "\t<li>'numeric'</li>\n",
       "\t<li>'numeric'</li>\n",
       "\t<li>'numeric'</li>\n",
       "\t<li>'numeric'</li>\n",
       "\t<li>'numeric'</li>\n",
       "\t<li>'numeric'</li>\n",
       "\t<li>'numeric'</li>\n",
       "\t<li>'numeric'</li>\n",
       "</ol>\n"
      ],
      "text/latex": [
       "\\begin{enumerate}\n",
       "\\item 'numeric'\n",
       "\\item 'numeric'\n",
       "\\item 'numeric'\n",
       "\\item 'numeric'\n",
       "\\item 'numeric'\n",
       "\\item 'numeric'\n",
       "\\item 'numeric'\n",
       "\\item 'numeric'\n",
       "\\item 'numeric'\n",
       "\\item 'numeric'\n",
       "\\item 'numeric'\n",
       "\\end{enumerate}\n"
      ],
      "text/markdown": [
       "1. 'numeric'\n",
       "2. 'numeric'\n",
       "3. 'numeric'\n",
       "4. 'numeric'\n",
       "5. 'numeric'\n",
       "6. 'numeric'\n",
       "7. 'numeric'\n",
       "8. 'numeric'\n",
       "9. 'numeric'\n",
       "10. 'numeric'\n",
       "11. 'numeric'\n",
       "\n",
       "\n"
      ],
      "text/plain": [
       "[[1]]\n",
       "[1] \"numeric\"\n",
       "\n",
       "[[2]]\n",
       "[1] \"numeric\"\n",
       "\n",
       "[[3]]\n",
       "[1] \"numeric\"\n",
       "\n",
       "[[4]]\n",
       "[1] \"numeric\"\n",
       "\n",
       "[[5]]\n",
       "[1] \"numeric\"\n",
       "\n",
       "[[6]]\n",
       "[1] \"numeric\"\n",
       "\n",
       "[[7]]\n",
       "[1] \"numeric\"\n",
       "\n",
       "[[8]]\n",
       "[1] \"numeric\"\n",
       "\n",
       "[[9]]\n",
       "[1] \"numeric\"\n",
       "\n",
       "[[10]]\n",
       "[1] \"numeric\"\n",
       "\n",
       "[[11]]\n",
       "[1] \"numeric\"\n"
      ]
     },
     "metadata": {},
     "output_type": "display_data"
    }
   ],
   "source": [
    "lapply(poll_csv$State_for_the_people, class)"
   ]
  },
  {
   "cell_type": "code",
   "execution_count": null,
   "metadata": {
    "collapsed": true
   },
   "outputs": [],
   "source": []
  }
 ],
 "metadata": {
  "anaconda-cloud": {},
  "kernelspec": {
   "display_name": "R 3.3",
   "language": "R",
   "name": "ir33"
  },
  "language_info": {
   "codemirror_mode": "r",
   "file_extension": ".r",
   "mimetype": "text/x-r-source",
   "name": "R",
   "pygments_lexer": "r",
   "version": "3.3.1"
  }
 },
 "nbformat": 4,
 "nbformat_minor": 0
}
