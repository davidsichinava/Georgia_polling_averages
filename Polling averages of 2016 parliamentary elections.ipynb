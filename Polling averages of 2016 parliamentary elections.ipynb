{
 "cells": [
  {
   "cell_type": "markdown",
   "metadata": {},
   "source": [
    "### Polling averages of 2016 parliamentary elections\n",
    "\n",
    "I collected the results of eleven opinion polls conducted in Georgia between June and October 2008. Where possible, I've also added basic metadata, however, due to the lack of transparency, not all information is included in the public statements circulated in the media.\n",
    "\n",
    "Calculations below are simple weighted averages of vote shares weighted by the number of days between the end of the fieldwork and election day. In case of election day 1 is assigned as weight. Overall, closer the poll was conducted to the election day, more it influences the model.\n",
    "\n",
    "Weighted rolling average should yield more accurate results and I'm currently planning to implement it"
   ]
  },
  {
   "cell_type": "code",
   "execution_count": 7,
   "metadata": {
    "collapsed": false
   },
   "outputs": [],
   "source": [
    "library(ggplot2)\n",
    "library(dtplyr)"
   ]
  },
  {
   "cell_type": "code",
   "execution_count": 8,
   "metadata": {
    "collapsed": true
   },
   "outputs": [],
   "source": [
    "poll_csv<-read.csv(\"raw/polls_2016.csv\")"
   ]
  },
  {
   "cell_type": "code",
   "execution_count": 11,
   "metadata": {
    "collapsed": false
   },
   "outputs": [
    {
     "data": {
      "text/html": [
       "<pre class=language-r><code>function (rotTabs) \n",
       "{\n",
       "<span style=white-space:pre-wrap>    poll_csv$tabnames &lt;- (poll_csv$tabnames)/(1 - poll_csv$Undecided)</span>\n",
       "}</code></pre>"
      ],
      "text/latex": [
       "\\begin{minted}{r}\n",
       "function (rotTabs) \n",
       "\\{\n",
       "    poll\\_csv\\$tabnames <- (poll\\_csv\\$tabnames)/(1 - poll\\_csv\\$Undecided)\n",
       "\\}\n",
       "\\end{minted}"
      ],
      "text/markdown": [
       "```r\n",
       "function (rotTabs) \n",
       "{\n",
       "    poll_csv$tabnames <- (poll_csv$tabnames)/(1 - poll_csv$Undecided)\n",
       "}\n",
       "```"
      ],
      "text/plain": [
       "function(rotTabs){\n",
       "    poll_csv$tabnames<-(poll_csv$tabnames)/(1-poll_csv$Undecided)\n",
       "}"
      ]
     },
     "metadata": {},
     "output_type": "display_data"
    }
   ],
   "source": [
    "tabnames<-c('Georgian_dream','UNM','Labor','Free_democrats','State_for_the_people','Alliance_of_patriots','United_democratic_movement','Other')\n",
    "\n",
    "function(rotTabs){\n",
    "    poll_csv$tabnames<-(poll_csv$tabnames)/(1-poll_csv$Undecided)\n",
    "}"
   ]
  },
  {
   "cell_type": "code",
   "execution_count": 12,
   "metadata": {
    "collapsed": false
   },
   "outputs": [
    {
     "ename": "ERROR",
     "evalue": "Error in match.fun(FUN): object 'rotTabs' not found\n",
     "output_type": "error",
     "traceback": [
      "Error in match.fun(FUN): object 'rotTabs' not found\nTraceback:\n",
      "1. as.data.frame((lapply(tabnames, rotTabs)))",
      "2. lapply(tabnames, rotTabs)",
      "3. match.fun(FUN)"
     ]
    }
   ],
   "source": [
    "polls_wght<-as.data.frame((lapply(tabnames, rotTabs)))"
   ]
  },
  {
   "cell_type": "code",
   "execution_count": 13,
   "metadata": {
    "collapsed": false
   },
   "outputs": [
    {
     "ename": "ERROR",
     "evalue": "Error in match.fun(FUN): object 'rotTabs' not found\n",
     "output_type": "error",
     "traceback": [
      "Error in match.fun(FUN): object 'rotTabs' not found\nTraceback:\n",
      "1. lapply(tabnames, rotTabs)",
      "2. match.fun(FUN)"
     ]
    }
   ],
   "source": [
    "polls_wght<-lapply(tabnames, rotTabs)"
   ]
  },
  {
   "cell_type": "code",
   "execution_count": null,
   "metadata": {
    "collapsed": true
   },
   "outputs": [],
   "source": []
  }
 ],
 "metadata": {
  "anaconda-cloud": {},
  "kernelspec": {
   "display_name": "R 3.3",
   "language": "R",
   "name": "ir33"
  },
  "language_info": {
   "codemirror_mode": "r",
   "file_extension": ".r",
   "mimetype": "text/x-r-source",
   "name": "R",
   "pygments_lexer": "r",
   "version": "3.3.1"
  }
 },
 "nbformat": 4,
 "nbformat_minor": 0
}
